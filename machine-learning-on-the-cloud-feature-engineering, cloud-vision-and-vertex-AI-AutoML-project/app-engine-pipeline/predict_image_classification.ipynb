{
 "cells": [
  {
   "cell_type": "code",
   "execution_count": 6,
   "id": "beaa10f2-abd1-4a76-ab02-5f8daf77db7d",
   "metadata": {},
   "outputs": [
    {
     "ename": "SyntaxError",
     "evalue": "non-default argument follows default argument (1503764617.py, line 6)",
     "output_type": "error",
     "traceback": [
      "\u001b[0;36m  File \u001b[0;32m\"/tmp/ipykernel_116111/1503764617.py\"\u001b[0;36m, line \u001b[0;32m6\u001b[0m\n\u001b[0;31m    project: str = \"ml-fare-prediction-1106\",\u001b[0m\n\u001b[0m    ^\u001b[0m\n\u001b[0;31mSyntaxError\u001b[0m\u001b[0;31m:\u001b[0m non-default argument follows default argument\n"
     ]
    }
   ],
   "source": [
    "import os\n",
    "from google.cloud import aiplatform\n",
    "from google.cloud.aiplatform.gapic.schema import predict\n",
    "\n",
    "def predict_image_classification_with_encoded_content(\n",
    "    project: str = \"ml-fare-prediction-1106\",\n",
    "    endpoint_id: str = \"2089399747239477248\",\n",
    "    encoded_content: str,\n",
    "    location: str = \"us-central1\",\n",
    "    api_endpoint: str = \"us-central1-aiplatform.googleapis.com\",\n",
    "):\n",
    "    # The AI Platform services require regional API endpoints.\n",
    "    client_options = {\"api_endpoint\": api_endpoint}\n",
    "    client = aiplatform.gapic.PredictionServiceClient(client_options=client_options)\n",
    "\n",
    "    instance = predict.instance.ImageClassificationPredictionInstance(\n",
    "        content=encoded_content,\n",
    "    ).to_value()\n",
    "    instances = [instance]\n",
    "\n",
    "    parameters = predict.params.ImageClassificationPredictionParams(\n",
    "        confidence_threshold=0.5,\n",
    "        max_predictions=5,\n",
    "    ).to_value()\n",
    "    endpoint = client.endpoint_path(\n",
    "        project=project, location=location, endpoint=endpoint_id\n",
    "    )\n",
    "    response = client.predict(\n",
    "        endpoint=endpoint, instances=instances, parameters=parameters\n",
    "    )\n",
    "\n",
    "    display_names = []\n",
    "    predictions = response.predictions\n",
    "    for prediction in predictions:\n",
    "        display_names.append(prediction['displayNames'])\n",
    "\n",
    "    return display_names"
   ]
  },
  {
   "cell_type": "code",
   "execution_count": 7,
   "id": "19e40da4-446a-4776-a2c4-db2e20b7bda0",
   "metadata": {},
   "outputs": [
    {
     "name": "stdout",
     "output_type": "stream",
     "text": [
      "response\n",
      " deployed_model_id: 2860284941659275264\n",
      " prediction: {'confidences': [0.917866647], 'displayNames': ['Katz_Deli'], 'ids': ['6595886967022419968']}\n"
     ]
    }
   ],
   "source": [
    "predict_image_classification_sample()"
   ]
  },
  {
   "cell_type": "code",
   "execution_count": null,
   "id": "fcef1ecd-e933-412d-b162-f89912447674",
   "metadata": {},
   "outputs": [],
   "source": []
  }
 ],
 "metadata": {
  "kernelspec": {
   "display_name": "Python 3 (ipykernel)",
   "language": "python",
   "name": "python3"
  },
  "language_info": {
   "codemirror_mode": {
    "name": "ipython",
    "version": 3
   },
   "file_extension": ".py",
   "mimetype": "text/x-python",
   "name": "python",
   "nbconvert_exporter": "python",
   "pygments_lexer": "ipython3",
   "version": "3.8.10"
  }
 },
 "nbformat": 4,
 "nbformat_minor": 5
}
